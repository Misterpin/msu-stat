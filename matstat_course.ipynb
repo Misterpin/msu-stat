{
  "cells": [
    {
      "cell_type": "code",
      "execution_count": 1,
      "id": "c35ba1c1-b63e-4704-90fd-82cd6924c8a3",
      "metadata": {
        "id": "c35ba1c1-b63e-4704-90fd-82cd6924c8a3"
      },
      "outputs": [],
      "source": [
        "# Импорт необходимых библиотек\n",
        "import pandas as pd\n",
        "import numpy as np\n",
        "import matplotlib.pyplot as plt\n",
        "from scipy import stats\n",
        "import seaborn as sns\n",
        "from matplotlib.ticker import PercentFormatter"
      ]
    },
    {
      "cell_type": "code",
      "execution_count": 2,
      "id": "4cda276e-4fc5-4ddb-9e01-4a2d76e6bc2d",
      "metadata": {
        "id": "4cda276e-4fc5-4ddb-9e01-4a2d76e6bc2d"
      },
      "outputs": [],
      "source": [
        "df = pd.read_csv('flights_NY.csv')"
      ]
    },
    {
      "cell_type": "code",
      "execution_count": 3,
      "id": "18e26887-fe4b-4c17-ac41-a025f4f3db6d",
      "metadata": {
        "colab": {
          "base_uri": "https://localhost:8080/",
          "height": 206
        },
        "id": "18e26887-fe4b-4c17-ac41-a025f4f3db6d",
        "outputId": "e647863d-d554-4ffe-caa5-b8877b44cf47"
      },
      "outputs": [
        {
          "output_type": "execute_result",
          "data": {
            "text/plain": [
              "   year  month  day  dep_time  dep_delay  arr_time  arr_delay carrier tailnum  \\\n",
              "0  2013      1    1     517.0        2.0     830.0       11.0      UA  N14228   \n",
              "1  2013      1    1     533.0        4.0     850.0       20.0      UA  N24211   \n",
              "2  2013      1    1     542.0        2.0     923.0       33.0      AA  N619AA   \n",
              "3  2013      1    1     544.0       -1.0    1004.0      -18.0      B6  N804JB   \n",
              "4  2013      1    1     554.0       -6.0     812.0      -25.0      DL  N668DN   \n",
              "\n",
              "   flight origin dest  air_time  distance  \n",
              "0    1545    EWR  IAH     227.0      1400  \n",
              "1    1714    LGA  IAH     227.0      1416  \n",
              "2    1141    JFK  MIA     160.0      1089  \n",
              "3     725    JFK  BQN     183.0      1576  \n",
              "4     461    LGA  ATL     116.0       762  "
            ],
            "text/html": [
              "\n",
              "  <div id=\"df-264dfa06-4168-4e81-94c4-a252f8bf4b46\" class=\"colab-df-container\">\n",
              "    <div>\n",
              "<style scoped>\n",
              "    .dataframe tbody tr th:only-of-type {\n",
              "        vertical-align: middle;\n",
              "    }\n",
              "\n",
              "    .dataframe tbody tr th {\n",
              "        vertical-align: top;\n",
              "    }\n",
              "\n",
              "    .dataframe thead th {\n",
              "        text-align: right;\n",
              "    }\n",
              "</style>\n",
              "<table border=\"1\" class=\"dataframe\">\n",
              "  <thead>\n",
              "    <tr style=\"text-align: right;\">\n",
              "      <th></th>\n",
              "      <th>year</th>\n",
              "      <th>month</th>\n",
              "      <th>day</th>\n",
              "      <th>dep_time</th>\n",
              "      <th>dep_delay</th>\n",
              "      <th>arr_time</th>\n",
              "      <th>arr_delay</th>\n",
              "      <th>carrier</th>\n",
              "      <th>tailnum</th>\n",
              "      <th>flight</th>\n",
              "      <th>origin</th>\n",
              "      <th>dest</th>\n",
              "      <th>air_time</th>\n",
              "      <th>distance</th>\n",
              "    </tr>\n",
              "  </thead>\n",
              "  <tbody>\n",
              "    <tr>\n",
              "      <th>0</th>\n",
              "      <td>2013</td>\n",
              "      <td>1</td>\n",
              "      <td>1</td>\n",
              "      <td>517.0</td>\n",
              "      <td>2.0</td>\n",
              "      <td>830.0</td>\n",
              "      <td>11.0</td>\n",
              "      <td>UA</td>\n",
              "      <td>N14228</td>\n",
              "      <td>1545</td>\n",
              "      <td>EWR</td>\n",
              "      <td>IAH</td>\n",
              "      <td>227.0</td>\n",
              "      <td>1400</td>\n",
              "    </tr>\n",
              "    <tr>\n",
              "      <th>1</th>\n",
              "      <td>2013</td>\n",
              "      <td>1</td>\n",
              "      <td>1</td>\n",
              "      <td>533.0</td>\n",
              "      <td>4.0</td>\n",
              "      <td>850.0</td>\n",
              "      <td>20.0</td>\n",
              "      <td>UA</td>\n",
              "      <td>N24211</td>\n",
              "      <td>1714</td>\n",
              "      <td>LGA</td>\n",
              "      <td>IAH</td>\n",
              "      <td>227.0</td>\n",
              "      <td>1416</td>\n",
              "    </tr>\n",
              "    <tr>\n",
              "      <th>2</th>\n",
              "      <td>2013</td>\n",
              "      <td>1</td>\n",
              "      <td>1</td>\n",
              "      <td>542.0</td>\n",
              "      <td>2.0</td>\n",
              "      <td>923.0</td>\n",
              "      <td>33.0</td>\n",
              "      <td>AA</td>\n",
              "      <td>N619AA</td>\n",
              "      <td>1141</td>\n",
              "      <td>JFK</td>\n",
              "      <td>MIA</td>\n",
              "      <td>160.0</td>\n",
              "      <td>1089</td>\n",
              "    </tr>\n",
              "    <tr>\n",
              "      <th>3</th>\n",
              "      <td>2013</td>\n",
              "      <td>1</td>\n",
              "      <td>1</td>\n",
              "      <td>544.0</td>\n",
              "      <td>-1.0</td>\n",
              "      <td>1004.0</td>\n",
              "      <td>-18.0</td>\n",
              "      <td>B6</td>\n",
              "      <td>N804JB</td>\n",
              "      <td>725</td>\n",
              "      <td>JFK</td>\n",
              "      <td>BQN</td>\n",
              "      <td>183.0</td>\n",
              "      <td>1576</td>\n",
              "    </tr>\n",
              "    <tr>\n",
              "      <th>4</th>\n",
              "      <td>2013</td>\n",
              "      <td>1</td>\n",
              "      <td>1</td>\n",
              "      <td>554.0</td>\n",
              "      <td>-6.0</td>\n",
              "      <td>812.0</td>\n",
              "      <td>-25.0</td>\n",
              "      <td>DL</td>\n",
              "      <td>N668DN</td>\n",
              "      <td>461</td>\n",
              "      <td>LGA</td>\n",
              "      <td>ATL</td>\n",
              "      <td>116.0</td>\n",
              "      <td>762</td>\n",
              "    </tr>\n",
              "  </tbody>\n",
              "</table>\n",
              "</div>\n",
              "    <div class=\"colab-df-buttons\">\n",
              "\n",
              "  <div class=\"colab-df-container\">\n",
              "    <button class=\"colab-df-convert\" onclick=\"convertToInteractive('df-264dfa06-4168-4e81-94c4-a252f8bf4b46')\"\n",
              "            title=\"Convert this dataframe to an interactive table.\"\n",
              "            style=\"display:none;\">\n",
              "\n",
              "  <svg xmlns=\"http://www.w3.org/2000/svg\" height=\"24px\" viewBox=\"0 -960 960 960\">\n",
              "    <path d=\"M120-120v-720h720v720H120Zm60-500h600v-160H180v160Zm220 220h160v-160H400v160Zm0 220h160v-160H400v160ZM180-400h160v-160H180v160Zm440 0h160v-160H620v160ZM180-180h160v-160H180v160Zm440 0h160v-160H620v160Z\"/>\n",
              "  </svg>\n",
              "    </button>\n",
              "\n",
              "  <style>\n",
              "    .colab-df-container {\n",
              "      display:flex;\n",
              "      gap: 12px;\n",
              "    }\n",
              "\n",
              "    .colab-df-convert {\n",
              "      background-color: #E8F0FE;\n",
              "      border: none;\n",
              "      border-radius: 50%;\n",
              "      cursor: pointer;\n",
              "      display: none;\n",
              "      fill: #1967D2;\n",
              "      height: 32px;\n",
              "      padding: 0 0 0 0;\n",
              "      width: 32px;\n",
              "    }\n",
              "\n",
              "    .colab-df-convert:hover {\n",
              "      background-color: #E2EBFA;\n",
              "      box-shadow: 0px 1px 2px rgba(60, 64, 67, 0.3), 0px 1px 3px 1px rgba(60, 64, 67, 0.15);\n",
              "      fill: #174EA6;\n",
              "    }\n",
              "\n",
              "    .colab-df-buttons div {\n",
              "      margin-bottom: 4px;\n",
              "    }\n",
              "\n",
              "    [theme=dark] .colab-df-convert {\n",
              "      background-color: #3B4455;\n",
              "      fill: #D2E3FC;\n",
              "    }\n",
              "\n",
              "    [theme=dark] .colab-df-convert:hover {\n",
              "      background-color: #434B5C;\n",
              "      box-shadow: 0px 1px 3px 1px rgba(0, 0, 0, 0.15);\n",
              "      filter: drop-shadow(0px 1px 2px rgba(0, 0, 0, 0.3));\n",
              "      fill: #FFFFFF;\n",
              "    }\n",
              "  </style>\n",
              "\n",
              "    <script>\n",
              "      const buttonEl =\n",
              "        document.querySelector('#df-264dfa06-4168-4e81-94c4-a252f8bf4b46 button.colab-df-convert');\n",
              "      buttonEl.style.display =\n",
              "        google.colab.kernel.accessAllowed ? 'block' : 'none';\n",
              "\n",
              "      async function convertToInteractive(key) {\n",
              "        const element = document.querySelector('#df-264dfa06-4168-4e81-94c4-a252f8bf4b46');\n",
              "        const dataTable =\n",
              "          await google.colab.kernel.invokeFunction('convertToInteractive',\n",
              "                                                    [key], {});\n",
              "        if (!dataTable) return;\n",
              "\n",
              "        const docLinkHtml = 'Like what you see? Visit the ' +\n",
              "          '<a target=\"_blank\" href=https://colab.research.google.com/notebooks/data_table.ipynb>data table notebook</a>'\n",
              "          + ' to learn more about interactive tables.';\n",
              "        element.innerHTML = '';\n",
              "        dataTable['output_type'] = 'display_data';\n",
              "        await google.colab.output.renderOutput(dataTable, element);\n",
              "        const docLink = document.createElement('div');\n",
              "        docLink.innerHTML = docLinkHtml;\n",
              "        element.appendChild(docLink);\n",
              "      }\n",
              "    </script>\n",
              "  </div>\n",
              "\n",
              "\n",
              "<div id=\"df-cfd9a0e8-1975-496d-8ca0-5fd1c220904e\">\n",
              "  <button class=\"colab-df-quickchart\" onclick=\"quickchart('df-cfd9a0e8-1975-496d-8ca0-5fd1c220904e')\"\n",
              "            title=\"Suggest charts\"\n",
              "            style=\"display:none;\">\n",
              "\n",
              "<svg xmlns=\"http://www.w3.org/2000/svg\" height=\"24px\"viewBox=\"0 0 24 24\"\n",
              "     width=\"24px\">\n",
              "    <g>\n",
              "        <path d=\"M19 3H5c-1.1 0-2 .9-2 2v14c0 1.1.9 2 2 2h14c1.1 0 2-.9 2-2V5c0-1.1-.9-2-2-2zM9 17H7v-7h2v7zm4 0h-2V7h2v10zm4 0h-2v-4h2v4z\"/>\n",
              "    </g>\n",
              "</svg>\n",
              "  </button>\n",
              "\n",
              "<style>\n",
              "  .colab-df-quickchart {\n",
              "      --bg-color: #E8F0FE;\n",
              "      --fill-color: #1967D2;\n",
              "      --hover-bg-color: #E2EBFA;\n",
              "      --hover-fill-color: #174EA6;\n",
              "      --disabled-fill-color: #AAA;\n",
              "      --disabled-bg-color: #DDD;\n",
              "  }\n",
              "\n",
              "  [theme=dark] .colab-df-quickchart {\n",
              "      --bg-color: #3B4455;\n",
              "      --fill-color: #D2E3FC;\n",
              "      --hover-bg-color: #434B5C;\n",
              "      --hover-fill-color: #FFFFFF;\n",
              "      --disabled-bg-color: #3B4455;\n",
              "      --disabled-fill-color: #666;\n",
              "  }\n",
              "\n",
              "  .colab-df-quickchart {\n",
              "    background-color: var(--bg-color);\n",
              "    border: none;\n",
              "    border-radius: 50%;\n",
              "    cursor: pointer;\n",
              "    display: none;\n",
              "    fill: var(--fill-color);\n",
              "    height: 32px;\n",
              "    padding: 0;\n",
              "    width: 32px;\n",
              "  }\n",
              "\n",
              "  .colab-df-quickchart:hover {\n",
              "    background-color: var(--hover-bg-color);\n",
              "    box-shadow: 0 1px 2px rgba(60, 64, 67, 0.3), 0 1px 3px 1px rgba(60, 64, 67, 0.15);\n",
              "    fill: var(--button-hover-fill-color);\n",
              "  }\n",
              "\n",
              "  .colab-df-quickchart-complete:disabled,\n",
              "  .colab-df-quickchart-complete:disabled:hover {\n",
              "    background-color: var(--disabled-bg-color);\n",
              "    fill: var(--disabled-fill-color);\n",
              "    box-shadow: none;\n",
              "  }\n",
              "\n",
              "  .colab-df-spinner {\n",
              "    border: 2px solid var(--fill-color);\n",
              "    border-color: transparent;\n",
              "    border-bottom-color: var(--fill-color);\n",
              "    animation:\n",
              "      spin 1s steps(1) infinite;\n",
              "  }\n",
              "\n",
              "  @keyframes spin {\n",
              "    0% {\n",
              "      border-color: transparent;\n",
              "      border-bottom-color: var(--fill-color);\n",
              "      border-left-color: var(--fill-color);\n",
              "    }\n",
              "    20% {\n",
              "      border-color: transparent;\n",
              "      border-left-color: var(--fill-color);\n",
              "      border-top-color: var(--fill-color);\n",
              "    }\n",
              "    30% {\n",
              "      border-color: transparent;\n",
              "      border-left-color: var(--fill-color);\n",
              "      border-top-color: var(--fill-color);\n",
              "      border-right-color: var(--fill-color);\n",
              "    }\n",
              "    40% {\n",
              "      border-color: transparent;\n",
              "      border-right-color: var(--fill-color);\n",
              "      border-top-color: var(--fill-color);\n",
              "    }\n",
              "    60% {\n",
              "      border-color: transparent;\n",
              "      border-right-color: var(--fill-color);\n",
              "    }\n",
              "    80% {\n",
              "      border-color: transparent;\n",
              "      border-right-color: var(--fill-color);\n",
              "      border-bottom-color: var(--fill-color);\n",
              "    }\n",
              "    90% {\n",
              "      border-color: transparent;\n",
              "      border-bottom-color: var(--fill-color);\n",
              "    }\n",
              "  }\n",
              "</style>\n",
              "\n",
              "  <script>\n",
              "    async function quickchart(key) {\n",
              "      const quickchartButtonEl =\n",
              "        document.querySelector('#' + key + ' button');\n",
              "      quickchartButtonEl.disabled = true;  // To prevent multiple clicks.\n",
              "      quickchartButtonEl.classList.add('colab-df-spinner');\n",
              "      try {\n",
              "        const charts = await google.colab.kernel.invokeFunction(\n",
              "            'suggestCharts', [key], {});\n",
              "      } catch (error) {\n",
              "        console.error('Error during call to suggestCharts:', error);\n",
              "      }\n",
              "      quickchartButtonEl.classList.remove('colab-df-spinner');\n",
              "      quickchartButtonEl.classList.add('colab-df-quickchart-complete');\n",
              "    }\n",
              "    (() => {\n",
              "      let quickchartButtonEl =\n",
              "        document.querySelector('#df-cfd9a0e8-1975-496d-8ca0-5fd1c220904e button');\n",
              "      quickchartButtonEl.style.display =\n",
              "        google.colab.kernel.accessAllowed ? 'block' : 'none';\n",
              "    })();\n",
              "  </script>\n",
              "</div>\n",
              "    </div>\n",
              "  </div>\n"
            ],
            "application/vnd.google.colaboratory.intrinsic+json": {
              "type": "dataframe",
              "variable_name": "df"
            }
          },
          "metadata": {},
          "execution_count": 3
        }
      ],
      "source": [
        "df.head()"
      ]
    },
    {
      "cell_type": "code",
      "execution_count": 4,
      "id": "8a7dcb78-3ea1-4853-8a26-8b123b1eb9cc",
      "metadata": {
        "colab": {
          "base_uri": "https://localhost:8080/"
        },
        "id": "8a7dcb78-3ea1-4853-8a26-8b123b1eb9cc",
        "outputId": "eec7d287-928e-4051-fa34-c98bef371640"
      },
      "outputs": [
        {
          "output_type": "execute_result",
          "data": {
            "text/plain": [
              "336776"
            ]
          },
          "metadata": {},
          "execution_count": 4
        }
      ],
      "source": [
        "# Исходно строк\n",
        "df.shape[0]"
      ]
    },
    {
      "cell_type": "code",
      "execution_count": 5,
      "id": "e1bd8d3b-8dd4-40f3-8f8a-a0a2712f47d2",
      "metadata": {
        "colab": {
          "base_uri": "https://localhost:8080/"
        },
        "id": "e1bd8d3b-8dd4-40f3-8f8a-a0a2712f47d2",
        "outputId": "eb7fee21-8d57-407a-fdd5-bc09c55f8dc8"
      },
      "outputs": [
        {
          "output_type": "execute_result",
          "data": {
            "text/plain": [
              "327346"
            ]
          },
          "metadata": {},
          "execution_count": 5
        }
      ],
      "source": [
        "# Строк после очистки\n",
        "df = df.dropna()\n",
        "df.shape[0]"
      ]
    },
    {
      "cell_type": "code",
      "execution_count": 6,
      "id": "4a14f6ae-b55d-40dd-a226-3f7365358f8a",
      "metadata": {
        "id": "4a14f6ae-b55d-40dd-a226-3f7365358f8a"
      },
      "outputs": [],
      "source": [
        "\"\"\"\n",
        "Задание 1. По каждой авиакомпании оцените вероятность того, что задержка прилета будет положительной и\n",
        "нарисуйте график, показывающий распределение этой вероятности по авиакомпаниям.\n",
        "\"\"\"\n",
        "carriers = sorted(df['carrier'].unique())\n"
      ]
    },
    {
      "cell_type": "code",
      "execution_count": 7,
      "id": "8e42f6de-a711-4673-af3f-446bf3732cc6",
      "metadata": {
        "id": "8e42f6de-a711-4673-af3f-446bf3732cc6",
        "outputId": "885304a7-13b2-4828-f425-259508d1b5a4",
        "colab": {
          "base_uri": "https://localhost:8080/"
        }
      },
      "outputs": [
        {
          "output_type": "stream",
          "name": "stdout",
          "text": [
            "{'carriers': ['9E', 'AA', 'AS', 'B6', 'DL', 'EV', 'F9', 'FL', 'HA', 'MQ', 'OO', 'UA', 'US', 'VX', 'WN', 'YV'], 'probability': [0.38377471955591536, 0.3351175384230131, 0.26657263751763044, 0.43680734148642897, 0.34439128792647616, 0.4790639430226188, 0.5756240822320118, 0.5968503937007874, 0.28362573099415206, 0.4670287973798778, 0.3448275862068966, 0.38458343428749436, 0.3705814129393374, 0.34128225175918686, 0.44038525406841583, 0.4742647058823529]}\n"
          ]
        }
      ],
      "source": [
        "delaysCount = {\"carriers\": [], \"probability\": []}\n",
        "for carrier in carriers:\n",
        "    carrierFlights = df.loc[df['carrier'] == carrier]\n",
        "    carriersFlightsDelayed = carrierFlights.loc[carrierFlights['arr_delay'] > 0]\n",
        "    delaysCount[\"carriers\"].append(carrier)\n",
        "    delaysCount[\"probability\"].append(carriersFlightsDelayed.shape[0] / carrierFlights.shape[0])\n",
        "\n",
        "\n",
        "print(delaysCount)"
      ]
    },
    {
      "cell_type": "code",
      "execution_count": 8,
      "id": "7d587a45-d4ed-4057-a516-aa029bd01982",
      "metadata": {
        "id": "7d587a45-d4ed-4057-a516-aa029bd01982",
        "outputId": "682ff8b8-597e-483d-ec32-22b841f2b625",
        "colab": {
          "base_uri": "https://localhost:8080/",
          "height": 449
        }
      },
      "outputs": [
        {
          "output_type": "display_data",
          "data": {
            "text/plain": [
              "<Figure size 640x480 with 1 Axes>"
            ],
            "image/png": "[encoded data removed]"
          },
          "metadata": {}
        }
      ],
      "source": [
        "# Построим диаграмму\n",
        "delayProbability = pd.DataFrame(delaysCount)\n",
        "ax = delayProbability.plot.bar(x='carriers', y='probability', rot=0)"
      ]
    },
    {
      "cell_type": "code",
      "execution_count": 10,
      "id": "81fb1c94-4eca-42a5-91df-1e8f4fa0c607",
      "metadata": {
        "id": "81fb1c94-4eca-42a5-91df-1e8f4fa0c607",
        "outputId": "07cbac76-1b19-4a0a-f5ca-cd8736a01daf",
        "colab": {
          "base_uri": "https://localhost:8080/",
          "height": 469
        }
      },
      "outputs": [
        {
          "output_type": "execute_result",
          "data": {
            "text/plain": [
              "array([[<Axes: title={'center': 'distance'}>]], dtype=object)"
            ]
          },
          "metadata": {},
          "execution_count": 10
        },
        {
          "output_type": "display_data",
          "data": {
            "text/plain": [
              "<Figure size 640x480 with 1 Axes>"
            ],
            "image/png": "[encoded data removed]"
          },
          "metadata": {}
        }
      ],
      "source": [
        "\"\"\"\n",
        "Задание 2. Постройте гистограмму расстояния перелета distance.\n",
        "Выделите на ней три группы перелетов: короткие, средние и длинные.\n",
        "Какие значения distance разумно выбрать в качестве границы, разделяющей короткие.\n",
        "средние и длинные перелеты? Куда летят самолеты в группе длинных перелетов?\n",
        "Найдите среднее время задержки вылета в каждой из трех выделенных групп.\n",
        "\"\"\"\n",
        "df.hist(column='distance', bins=70, density=True)"
      ]
    },
    {
      "cell_type": "code",
      "execution_count": null,
      "id": "45cde3fe-7c79-4cd0-964b-55947226804a",
      "metadata": {
        "id": "45cde3fe-7c79-4cd0-964b-55947226804a"
      },
      "outputs": [],
      "source": [
        "# Короткие дистанции < 1200 миль\n",
        "# Средние дистанции от 1200 до 2500 миль\n",
        "# Длинные дистанции > 2500 миль"
      ]
    },
    {
      "cell_type": "code",
      "execution_count": 11,
      "id": "1f8a2998-ad1b-4be0-8bc5-f6d41666e040",
      "metadata": {
        "id": "1f8a2998-ad1b-4be0-8bc5-f6d41666e040",
        "outputId": "61f01a1e-c891-4b46-c651-b7f08ce8cb0d",
        "colab": {
          "base_uri": "https://localhost:8080/"
        }
      },
      "outputs": [
        {
          "output_type": "stream",
          "name": "stdout",
          "text": [
            "['SFO' 'HNL' 'SJC' 'OAK' 'SMF' 'ANC']\n"
          ]
        }
      ],
      "source": [
        "longDistanceFlights = df.loc[df['distance'] > 2500]\n",
        "print(longDistanceFlights['dest'].unique())"
      ]
    },
    {
      "cell_type": "code",
      "execution_count": 12,
      "id": "7df8e932-9c1c-4c03-b2a3-4c445fb3c4e6",
      "metadata": {
        "id": "7df8e932-9c1c-4c03-b2a3-4c445fb3c4e6",
        "outputId": "6987fbae-a937-4680-a3e0-d8be5d911649",
        "colab": {
          "base_uri": "https://localhost:8080/"
        }
      },
      "outputs": [
        {
          "output_type": "stream",
          "name": "stdout",
          "text": [
            "Long distance flights delay: 2.684278089318289\n",
            "Medium distance flights delay: 2.682179597796509\n",
            "Short distance flights delay: 8.496193246490451\n"
          ]
        }
      ],
      "source": [
        "print(\"Long distance flights delay:\", longDistanceFlights['arr_delay'].mean())\n",
        "print(\"Medium distance flights delay:\", df.loc[(df['distance'] > 1200) & (df['distance'] < 2500)]['arr_delay'].mean())\n",
        "print(\"Short distance flights delay:\", df.loc[df['distance'] < 1200]['arr_delay'].mean())\n"
      ]
    },
    {
      "cell_type": "code",
      "execution_count": 13,
      "id": "9325388f-0e80-489b-a057-1f7c5937e2a6",
      "metadata": {
        "id": "9325388f-0e80-489b-a057-1f7c5937e2a6"
      },
      "outputs": [],
      "source": [
        "\"\"\"\n",
        "3 задание. Нарисуйте график среднего времени задержки вылета по месяцам и отметьте на\n",
        "нем границы доверительных интервалов с уровнем доверия 0.95.\n",
        "С помощью подходящего статистического теста проверьте, можно ли принять гипотезу\n",
        " о равенстве средних в январе и феврале на уровне значимости 0.05?\n",
        "На уровне значимости 0.01?\n",
        "\"\"\"\n",
        "delaysByMonth = {\"month\": list(range(1, 13)), \"delay\": []}\n",
        "for month in range(1, 13):\n",
        "    delaysByMonth[\"delay\"].append(df.loc[df['month'] == month]['arr_delay'].mean())"
      ]
    },
    {
      "cell_type": "code",
      "execution_count": 14,
      "id": "1ba68b07-9cd5-46d0-aac7-ea53b1960789",
      "metadata": {
        "id": "1ba68b07-9cd5-46d0-aac7-ea53b1960789",
        "outputId": "811b28db-d685-4ac2-d71d-21e761806996",
        "colab": {
          "base_uri": "https://localhost:8080/",
          "height": 449
        }
      },
      "outputs": [
        {
          "output_type": "display_data",
          "data": {
            "text/plain": [
              "<Figure size 640x480 with 1 Axes>"
            ],
            "image/png": "[encoded data removed]"
          },
          "metadata": {}
        }
      ],
      "source": [
        "delay = pd.DataFrame(delaysByMonth)\n",
        "ax = delay.plot.bar(x='month', y='delay', rot=0)"
      ]
    },
    {
      "cell_type": "code",
      "execution_count": 15,
      "id": "c18f0397",
      "metadata": {
        "id": "c18f0397",
        "outputId": "8c46b56d-33ef-4497-f76c-09e0e5544bc3",
        "colab": {
          "base_uri": "https://localhost:8080/",
          "height": 472
        }
      },
      "outputs": [
        {
          "output_type": "display_data",
          "data": {
            "text/plain": [
              "<Figure size 640x480 with 1 Axes>"
            ],
            "image/png": "[encoded data removed]"
          },
          "metadata": {}
        }
      ],
      "source": [
        "grouped_delays = df.groupby('month')['dep_delay'].mean().reset_index()\n",
        "grouped_delays.columns = ['month', 'average_delay_time']\n",
        "\n",
        "std_error = stats.sem(grouped_delays.average_delay_time)\n",
        "\n",
        "lower_bound = grouped_delays.average_delay_time - std_error  *  stats.t.ppf((1 + 0.975) / 2, len(grouped_delays.average_delay_time) - 1)\n",
        "upper_bound = grouped_delays.average_delay_time + std_error  *  stats.t.ppf((1 + 0.975) / 2, len(grouped_delays.average_delay_time) - 1)\n",
        "\n",
        "# Создаем график\n",
        "plt.plot(grouped_delays.average_delay_time, label='Mean values')\n",
        "\n",
        "# Добавляем границы доверительных интервалов\n",
        "plt.fill_between(range(len(grouped_delays.average_delay_time)), lower_bound, upper_bound, alpha=0.2, color='blue')\n",
        "\n",
        "# Подписываем оси\n",
        "plt.xlabel('Month')\n",
        "plt.ylabel('Values')\n",
        "plt.title('Confidence Intervals with Mean Values')\n",
        "\n",
        "# Показываем график\n",
        "plt.show()"
      ]
    },
    {
      "cell_type": "code",
      "execution_count": 16,
      "id": "f8c19ef6",
      "metadata": {
        "id": "f8c19ef6",
        "outputId": "400fe70c-d632-48d7-bbb4-87311c74a8b6",
        "colab": {
          "base_uri": "https://localhost:8080/",
          "height": 206
        }
      },
      "outputs": [
        {
          "output_type": "execute_result",
          "data": {
            "text/plain": [
              "   month  average_delay_time\n",
              "0      1            9.985491\n",
              "1      2           10.760239\n",
              "2      3           13.164289\n",
              "3      4           13.849187\n",
              "4      5           12.891709"
            ],
            "text/html": [
              "\n",
              "  <div id=\"df-f3d974ec-620d-40a0-98e5-a4968a183b7c\" class=\"colab-df-container\">\n",
              "    <div>\n",
              "<style scoped>\n",
              "    .dataframe tbody tr th:only-of-type {\n",
              "        vertical-align: middle;\n",
              "    }\n",
              "\n",
              "    .dataframe tbody tr th {\n",
              "        vertical-align: top;\n",
              "    }\n",
              "\n",
              "    .dataframe thead th {\n",
              "        text-align: right;\n",
              "    }\n",
              "</style>\n",
              "<table border=\"1\" class=\"dataframe\">\n",
              "  <thead>\n",
              "    <tr style=\"text-align: right;\">\n",
              "      <th></th>\n",
              "      <th>month</th>\n",
              "      <th>average_delay_time</th>\n",
              "    </tr>\n",
              "  </thead>\n",
              "  <tbody>\n",
              "    <tr>\n",
              "      <th>0</th>\n",
              "      <td>1</td>\n",
              "      <td>9.985491</td>\n",
              "    </tr>\n",
              "    <tr>\n",
              "      <th>1</th>\n",
              "      <td>2</td>\n",
              "      <td>10.760239</td>\n",
              "    </tr>\n",
              "    <tr>\n",
              "      <th>2</th>\n",
              "      <td>3</td>\n",
              "      <td>13.164289</td>\n",
              "    </tr>\n",
              "    <tr>\n",
              "      <th>3</th>\n",
              "      <td>4</td>\n",
              "      <td>13.849187</td>\n",
              "    </tr>\n",
              "    <tr>\n",
              "      <th>4</th>\n",
              "      <td>5</td>\n",
              "      <td>12.891709</td>\n",
              "    </tr>\n",
              "  </tbody>\n",
              "</table>\n",
              "</div>\n",
              "    <div class=\"colab-df-buttons\">\n",
              "\n",
              "  <div class=\"colab-df-container\">\n",
              "    <button class=\"colab-df-convert\" onclick=\"convertToInteractive('df-f3d974ec-620d-40a0-98e5-a4968a183b7c')\"\n",
              "            title=\"Convert this dataframe to an interactive table.\"\n",
              "            style=\"display:none;\">\n",
              "\n",
              "  <svg xmlns=\"http://www.w3.org/2000/svg\" height=\"24px\" viewBox=\"0 -960 960 960\">\n",
              "    <path d=\"M120-120v-720h720v720H120Zm60-500h600v-160H180v160Zm220 220h160v-160H400v160Zm0 220h160v-160H400v160ZM180-400h160v-160H180v160Zm440 0h160v-160H620v160ZM180-180h160v-160H180v160Zm440 0h160v-160H620v160Z\"/>\n",
              "  </svg>\n",
              "    </button>\n",
              "\n",
              "  <style>\n",
              "    .colab-df-container {\n",
              "      display:flex;\n",
              "      gap: 12px;\n",
              "    }\n",
              "\n",
              "    .colab-df-convert {\n",
              "      background-color: #E8F0FE;\n",
              "      border: none;\n",
              "      border-radius: 50%;\n",
              "      cursor: pointer;\n",
              "      display: none;\n",
              "      fill: #1967D2;\n",
              "      height: 32px;\n",
              "      padding: 0 0 0 0;\n",
              "      width: 32px;\n",
              "    }\n",
              "\n",
              "    .colab-df-convert:hover {\n",
              "      background-color: #E2EBFA;\n",
              "      box-shadow: 0px 1px 2px rgba(60, 64, 67, 0.3), 0px 1px 3px 1px rgba(60, 64, 67, 0.15);\n",
              "      fill: #174EA6;\n",
              "    }\n",
              "\n",
              "    .colab-df-buttons div {\n",
              "      margin-bottom: 4px;\n",
              "    }\n",
              "\n",
              "    [theme=dark] .colab-df-convert {\n",
              "      background-color: #3B4455;\n",
              "      fill: #D2E3FC;\n",
              "    }\n",
              "\n",
              "    [theme=dark] .colab-df-convert:hover {\n",
              "      background-color: #434B5C;\n",
              "      box-shadow: 0px 1px 3px 1px rgba(0, 0, 0, 0.15);\n",
              "      filter: drop-shadow(0px 1px 2px rgba(0, 0, 0, 0.3));\n",
              "      fill: #FFFFFF;\n",
              "    }\n",
              "  </style>\n",
              "\n",
              "    <script>\n",
              "      const buttonEl =\n",
              "        document.querySelector('#df-f3d974ec-620d-40a0-98e5-a4968a183b7c button.colab-df-convert');\n",
              "      buttonEl.style.display =\n",
              "        google.colab.kernel.accessAllowed ? 'block' : 'none';\n",
              "\n",
              "      async function convertToInteractive(key) {\n",
              "        const element = document.querySelector('#df-f3d974ec-620d-40a0-98e5-a4968a183b7c');\n",
              "        const dataTable =\n",
              "          await google.colab.kernel.invokeFunction('convertToInteractive',\n",
              "                                                    [key], {});\n",
              "        if (!dataTable) return;\n",
              "\n",
              "        const docLinkHtml = 'Like what you see? Visit the ' +\n",
              "          '<a target=\"_blank\" href=https://colab.research.google.com/notebooks/data_table.ipynb>data table notebook</a>'\n",
              "          + ' to learn more about interactive tables.';\n",
              "        element.innerHTML = '';\n",
              "        dataTable['output_type'] = 'display_data';\n",
              "        await google.colab.output.renderOutput(dataTable, element);\n",
              "        const docLink = document.createElement('div');\n",
              "        docLink.innerHTML = docLinkHtml;\n",
              "        element.appendChild(docLink);\n",
              "      }\n",
              "    </script>\n",
              "  </div>\n",
              "\n",
              "\n",
              "<div id=\"df-8b3287c8-39e9-4876-851b-78d0edc90e7e\">\n",
              "  <button class=\"colab-df-quickchart\" onclick=\"quickchart('df-8b3287c8-39e9-4876-851b-78d0edc90e7e')\"\n",
              "            title=\"Suggest charts\"\n",
              "            style=\"display:none;\">\n",
              "\n",
              "<svg xmlns=\"http://www.w3.org/2000/svg\" height=\"24px\"viewBox=\"0 0 24 24\"\n",
              "     width=\"24px\">\n",
              "    <g>\n",
              "        <path d=\"M19 3H5c-1.1 0-2 .9-2 2v14c0 1.1.9 2 2 2h14c1.1 0 2-.9 2-2V5c0-1.1-.9-2-2-2zM9 17H7v-7h2v7zm4 0h-2V7h2v10zm4 0h-2v-4h2v4z\"/>\n",
              "    </g>\n",
              "</svg>\n",
              "  </button>\n",
              "\n",
              "<style>\n",
              "  .colab-df-quickchart {\n",
              "      --bg-color: #E8F0FE;\n",
              "      --fill-color: #1967D2;\n",
              "      --hover-bg-color: #E2EBFA;\n",
              "      --hover-fill-color: #174EA6;\n",
              "      --disabled-fill-color: #AAA;\n",
              "      --disabled-bg-color: #DDD;\n",
              "  }\n",
              "\n",
              "  [theme=dark] .colab-df-quickchart {\n",
              "      --bg-color: #3B4455;\n",
              "      --fill-color: #D2E3FC;\n",
              "      --hover-bg-color: #434B5C;\n",
              "      --hover-fill-color: #FFFFFF;\n",
              "      --disabled-bg-color: #3B4455;\n",
              "      --disabled-fill-color: #666;\n",
              "  }\n",
              "\n",
              "  .colab-df-quickchart {\n",
              "    background-color: var(--bg-color);\n",
              "    border: none;\n",
              "    border-radius: 50%;\n",
              "    cursor: pointer;\n",
              "    display: none;\n",
              "    fill: var(--fill-color);\n",
              "    height: 32px;\n",
              "    padding: 0;\n",
              "    width: 32px;\n",
              "  }\n",
              "\n",
              "  .colab-df-quickchart:hover {\n",
              "    background-color: var(--hover-bg-color);\n",
              "    box-shadow: 0 1px 2px rgba(60, 64, 67, 0.3), 0 1px 3px 1px rgba(60, 64, 67, 0.15);\n",
              "    fill: var(--button-hover-fill-color);\n",
              "  }\n",
              "\n",
              "  .colab-df-quickchart-complete:disabled,\n",
              "  .colab-df-quickchart-complete:disabled:hover {\n",
              "    background-color: var(--disabled-bg-color);\n",
              "    fill: var(--disabled-fill-color);\n",
              "    box-shadow: none;\n",
              "  }\n",
              "\n",
              "  .colab-df-spinner {\n",
              "    border: 2px solid var(--fill-color);\n",
              "    border-color: transparent;\n",
              "    border-bottom-color: var(--fill-color);\n",
              "    animation:\n",
              "      spin 1s steps(1) infinite;\n",
              "  }\n",
              "\n",
              "  @keyframes spin {\n",
              "    0% {\n",
              "      border-color: transparent;\n",
              "      border-bottom-color: var(--fill-color);\n",
              "      border-left-color: var(--fill-color);\n",
              "    }\n",
              "    20% {\n",
              "      border-color: transparent;\n",
              "      border-left-color: var(--fill-color);\n",
              "      border-top-color: var(--fill-color);\n",
              "    }\n",
              "    30% {\n",
              "      border-color: transparent;\n",
              "      border-left-color: var(--fill-color);\n",
              "      border-top-color: var(--fill-color);\n",
              "      border-right-color: var(--fill-color);\n",
              "    }\n",
              "    40% {\n",
              "      border-color: transparent;\n",
              "      border-right-color: var(--fill-color);\n",
              "      border-top-color: var(--fill-color);\n",
              "    }\n",
              "    60% {\n",
              "      border-color: transparent;\n",
              "      border-right-color: var(--fill-color);\n",
              "    }\n",
              "    80% {\n",
              "      border-color: transparent;\n",
              "      border-right-color: var(--fill-color);\n",
              "      border-bottom-color: var(--fill-color);\n",
              "    }\n",
              "    90% {\n",
              "      border-color: transparent;\n",
              "      border-bottom-color: var(--fill-color);\n",
              "    }\n",
              "  }\n",
              "</style>\n",
              "\n",
              "  <script>\n",
              "    async function quickchart(key) {\n",
              "      const quickchartButtonEl =\n",
              "        document.querySelector('#' + key + ' button');\n",
              "      quickchartButtonEl.disabled = true;  // To prevent multiple clicks.\n",
              "      quickchartButtonEl.classList.add('colab-df-spinner');\n",
              "      try {\n",
              "        const charts = await google.colab.kernel.invokeFunction(\n",
              "            'suggestCharts', [key], {});\n",
              "      } catch (error) {\n",
              "        console.error('Error during call to suggestCharts:', error);\n",
              "      }\n",
              "      quickchartButtonEl.classList.remove('colab-df-spinner');\n",
              "      quickchartButtonEl.classList.add('colab-df-quickchart-complete');\n",
              "    }\n",
              "    (() => {\n",
              "      let quickchartButtonEl =\n",
              "        document.querySelector('#df-8b3287c8-39e9-4876-851b-78d0edc90e7e button');\n",
              "      quickchartButtonEl.style.display =\n",
              "        google.colab.kernel.accessAllowed ? 'block' : 'none';\n",
              "    })();\n",
              "  </script>\n",
              "</div>\n",
              "    </div>\n",
              "  </div>\n"
            ],
            "application/vnd.google.colaboratory.intrinsic+json": {
              "type": "dataframe",
              "variable_name": "grouped_delays",
              "summary": "{\n  \"name\": \"grouped_delays\",\n  \"rows\": 12,\n  \"fields\": [\n    {\n      \"column\": \"month\",\n      \"properties\": {\n        \"dtype\": \"number\",\n        \"std\": 3,\n        \"min\": 1,\n        \"max\": 12,\n        \"num_unique_values\": 12,\n        \"samples\": [\n          11,\n          10,\n          1\n        ],\n        \"semantic_type\": \"\",\n        \"description\": \"\"\n      }\n    },\n    {\n      \"column\": \"average_delay_time\",\n      \"properties\": {\n        \"dtype\": \"number\",\n        \"std\": 5.226950984288832,\n        \"min\": 5.420340365577843,\n        \"max\": 21.522178630756724,\n        \"num_unique_values\": 12,\n        \"samples\": [\n          5.420340365577843,\n          6.233174924872458,\n          9.985491325100387\n        ],\n        \"semantic_type\": \"\",\n        \"description\": \"\"\n      }\n    }\n  ]\n}"
            }
          },
          "metadata": {},
          "execution_count": 16
        }
      ],
      "source": [
        "grouped_delays.head()"
      ]
    },
    {
      "cell_type": "code",
      "execution_count": 17,
      "id": "ce338d66",
      "metadata": {
        "id": "ce338d66",
        "outputId": "f6d08105-941e-4fb1-edfd-b27ec71d4c51",
        "colab": {
          "base_uri": "https://localhost:8080/"
        }
      },
      "outputs": [
        {
          "output_type": "stream",
          "name": "stdout",
          "text": [
            "При уровне значимости 0.05 гипотеза о равенстве средних отвергается.\n",
            "При уровне значимости 0.01 гипотеза о равенстве средних отвергается.\n"
          ]
        },
        {
          "output_type": "stream",
          "name": "stderr",
          "text": [
            "/usr/local/lib/python3.10/dist-packages/scipy/stats/_stats_py.py:7030: RuntimeWarning: invalid value encountered in scalar divide\n",
            "  svar = ((n1 - 1) * v1 + (n2 - 1) * v2) / df\n"
          ]
        }
      ],
      "source": [
        "january_data = grouped_delays.loc[grouped_delays['month'] == 1]['average_delay_time']\n",
        "february_data = grouped_delays.loc[grouped_delays['month'] == 2]['average_delay_time']\n",
        "t_stat, p_value = stats.ttest_ind(january_data, february_data)\n",
        "if p_value > 0.05:\n",
        "    print(\"При уровне значимости 0.05 гипотеза о равенстве средних принимается.\")\n",
        "else:\n",
        "    print(\"При уровне значимости 0.05 гипотеза о равенстве средних отвергается.\")\n",
        "\n",
        "# Проверяем гипотезу на уровне значимости 0.01\n",
        "t_stat, p_value = stats.ttest_ind(january_data, february_data, alternative='less')\n",
        "if p_value > 0.01:\n",
        "    print(\"При уровне значимости 0.01 гипотеза о равенстве средних принимается.\")\n",
        "else:\n",
        "    print(\"При уровне значимости 0.01 гипотеза о равенстве средних отвергается.\")"
      ]
    },
    {
      "cell_type": "code",
      "execution_count": 19,
      "id": "4827b169-0e5e-4c44-aba3-8f71a4c6bb95",
      "metadata": {
        "id": "4827b169-0e5e-4c44-aba3-8f71a4c6bb95",
        "outputId": "55510d3b-c4c7-4342-c26b-ad134372a175",
        "colab": {
          "base_uri": "https://localhost:8080/",
          "height": 449
        }
      },
      "outputs": [
        {
          "output_type": "display_data",
          "data": {
            "text/plain": [
              "<Figure size 640x480 with 1 Axes>"
            ],
            "image/png": "[encoded data removed]"
          },
          "metadata": {}
        }
      ],
      "source": [
        "\"\"\" 4 задание. Найдите коэффициент корреляции между расстоянием distance и временем полета air_time.\n",
        "Постройте точечную диаграмму в осях distance (х) и air_time (y).\n",
        "Найдите коэффициенты линейной регрессии и нанесите полученную прямую на график.\n",
        "Как можно интерпретировать смысл коэффициентов полученной линейной модели?\n",
        "\"\"\"\n",
        "ax1 = df.plot.scatter(x='distance', y='air_time')"
      ]
    },
    {
      "cell_type": "code",
      "execution_count": null,
      "id": "d3227185-8d13-4545-9051-284328852892",
      "metadata": {
        "id": "d3227185-8d13-4545-9051-284328852892",
        "outputId": "aa077066-4b1a-4866-8b10-3ea7b493e9ab"
      },
      "outputs": [
        {
          "data": {
            "text/html": [
              "<div>\n",
              "<style scoped>\n",
              "    .dataframe tbody tr th:only-of-type {\n",
              "        vertical-align: middle;\n",
              "    }\n",
              "\n",
              "    .dataframe tbody tr th {\n",
              "        vertical-align: top;\n",
              "    }\n",
              "\n",
              "    .dataframe thead th {\n",
              "        text-align: right;\n",
              "    }\n",
              "</style>\n",
              "<table border=\"1\" class=\"dataframe\">\n",
              "  <thead>\n",
              "    <tr style=\"text-align: right;\">\n",
              "      <th></th>\n",
              "      <th>distance</th>\n",
              "      <th>air_time</th>\n",
              "    </tr>\n",
              "  </thead>\n",
              "  <tbody>\n",
              "    <tr>\n",
              "      <th>distance</th>\n",
              "      <td>1.00000</td>\n",
              "      <td>0.99065</td>\n",
              "    </tr>\n",
              "    <tr>\n",
              "      <th>air_time</th>\n",
              "      <td>0.99065</td>\n",
              "      <td>1.00000</td>\n",
              "    </tr>\n",
              "  </tbody>\n",
              "</table>\n",
              "</div>"
            ],
            "text/plain": [
              "          distance  air_time\n",
              "distance   1.00000   0.99065\n",
              "air_time   0.99065   1.00000"
            ]
          },
          "execution_count": 14,
          "metadata": {},
          "output_type": "execute_result"
        }
      ],
      "source": [
        "# Коэффициент корреляции\n",
        "df[[\"distance\", \"air_time\"]].corr(method='pearson')\n"
      ]
    },
    {
      "cell_type": "code",
      "execution_count": 20,
      "id": "f3f97269-7ff3-4de0-9715-67c004f4f95c",
      "metadata": {
        "id": "f3f97269-7ff3-4de0-9715-67c004f4f95c",
        "outputId": "4efe4235-dd61-4ba5-f729-b7b16dd702be",
        "colab": {
          "base_uri": "https://localhost:8080/"
        }
      },
      "outputs": [
        {
          "output_type": "stream",
          "name": "stdout",
          "text": [
            "Коэффициенты линейной регрессии y = ax + b: 0.12611932467386067, 18.46657812776041\n"
          ]
        }
      ],
      "source": [
        "# Метод наименьших квадратов\n",
        "x_sum = 0\n",
        "squared_x_sum = 0\n",
        "y_sum = 0\n",
        "x_y_sum = 0\n",
        "N = df.shape[0]\n",
        "for x, y in zip(df['distance'], df['air_time']):\n",
        "    x_sum += x\n",
        "    squared_x_sum += x ** 2\n",
        "    y_sum += y\n",
        "    x_y_sum += x * y\n",
        "# Используем правило Крамера\n",
        "det = (squared_x_sum * N) - (x_sum ** 2)\n",
        "det_a = (x_y_sum * N) - (x_sum * y_sum)\n",
        "a = det_a / det\n",
        "\n",
        "det_b = (squared_x_sum * y_sum) - (x_y_sum * x_sum)\n",
        "b = det_b / det\n",
        "print(f\"Коэффициенты линейной регрессии y = ax + b: {a}, {b}\")"
      ]
    },
    {
      "cell_type": "code",
      "execution_count": 21,
      "id": "706808ed-1663-4e34-ab8d-a4f8e5bb11e2",
      "metadata": {
        "id": "706808ed-1663-4e34-ab8d-a4f8e5bb11e2",
        "outputId": "801cdf3d-b5d0-4083-81a5-acad570e9c24",
        "colab": {
          "base_uri": "https://localhost:8080/",
          "height": 430
        }
      },
      "outputs": [
        {
          "output_type": "display_data",
          "data": {
            "text/plain": [
              "<Figure size 640x480 with 1 Axes>"
            ],
            "image/png": "[encoded data removed]"
          },
          "metadata": {}
        }
      ],
      "source": [
        "x = list(range(df[\"distance\"].min(), df[\"distance\"].max()))\n",
        "plt.plot(x, [a*el + b for el in x], color=\"red\")\n",
        "plt.scatter(df[\"distance\"], df[\"air_time\"])\n",
        "plt.show()"
      ]
    },
    {
      "cell_type": "code",
      "source": [
        "\"\"\"\n",
        "Объясним смысл коэффициентов линейной регрессии: коэффициент наклона ≈ 0.12,\n",
        "таким образом при увеличении дистанции рейса, например, на 100 миль время рейса увеличится на 12 минут.\n",
        "То есть, средняя скорость самолета ≈ 500 миль/ч.\n",
        "В случае если, дистанция рейса = 0 миль, значение линейной регрессии 0.12 * 0 + 18 = 18 минут.\n",
        "Наверняка это связано с тем, что самолёт не взлетает мгновенно, а ещё проводится инструктаж,\n",
        "выезд на взлётно-посадочную полосу и тд.\n",
        "\"\"\""
      ],
      "metadata": {
        "id": "-CthA2LtrMMZ"
      },
      "id": "-CthA2LtrMMZ",
      "execution_count": null,
      "outputs": []
    },
    {
      "cell_type": "code",
      "source": [
        "\"\"\" Задание 5. Постройте нормированную гистограмму распределения задержки прилета по\n",
        "тем рейсам, которые вылетели в пределах +/-15 минут от времени в расписании.\n",
        "Сделайте предположение о том, каким распределением может описываться полученная\n",
        "гистограмма, оцените параметры этого распределения и нанесите график плотности\n",
        "на график с гистограммой.\n",
        "\"\"\"\n",
        "\n",
        "# Фильтруем задержку вылета в диапазоне [-15; 15]\n",
        "df = df.loc[(df['dep_delay'] >= -15) & (df['dep_delay'] <= 15)]\n",
        "df = df.reset_index(drop=True)"
      ],
      "metadata": {
        "id": "1n8jnoo6puPB"
      },
      "id": "1n8jnoo6puPB",
      "execution_count": 22,
      "outputs": []
    },
    {
      "cell_type": "code",
      "source": [
        "# Диаграмма\n",
        "sns.histplot(df['arr_delay'], kde=True,\n",
        "             bins=int(180/2), color = 'darkblue')\n",
        "# Процентное форматирование\n",
        "plt.gca().yaxis.set_major_formatter(PercentFormatter(20000))\n",
        "# Оси\n",
        "plt.title('Диаграмма задержки прилёта')\n",
        "plt.xlabel('Задержка (мин)')\n",
        "plt.ylabel('% полётов')"
      ],
      "metadata": {
        "colab": {
          "base_uri": "https://localhost:8080/",
          "height": 489
        },
        "id": "Pl_mHU-FqdS9",
        "outputId": "4aee450b-b929-46ee-f103-e922499b7a5f"
      },
      "id": "Pl_mHU-FqdS9",
      "execution_count": 23,
      "outputs": [
        {
          "output_type": "execute_result",
          "data": {
            "text/plain": [
              "Text(0, 0.5, '% полётов')"
            ]
          },
          "metadata": {},
          "execution_count": 23
        },
        {
          "output_type": "display_data",
          "data": {
            "text/plain": [
              "<Figure size 640x480 with 1 Axes>"
            ],
            "image/png": "[encoded data removed]"
          },
          "metadata": {}
        }
      ]
    },
    {
      "cell_type": "code",
      "source": [
        "# Вычисляем параметры распределения\n",
        "m = df['arr_delay'].mean().round(2)\n",
        "v = df['arr_delay'].var().round(2)"
      ],
      "metadata": {
        "id": "z0qr1JLlqfTj"
      },
      "id": "z0qr1JLlqfTj",
      "execution_count": 24,
      "outputs": []
    },
    {
      "cell_type": "code",
      "source": [
        "print(f\"График напоминает нормальное распределение с матожиданием {m}, дисперсией {v} (мин)\")"
      ],
      "metadata": {
        "colab": {
          "base_uri": "https://localhost:8080/"
        },
        "id": "jWSuio3DqqMI",
        "outputId": "3bbde259-be3c-4f00-8e3a-2f2ff31173a8"
      },
      "id": "jWSuio3DqqMI",
      "execution_count": 28,
      "outputs": [
        {
          "output_type": "stream",
          "name": "stdout",
          "text": [
            "График напоминает нормальное распределение с матожиданием -8.25, дисперсией 320.67 (мин)\n"
          ]
        }
      ]
    },
    {
      "cell_type": "code",
      "source": [
        "\"\"\" Задание 6. Постройте модель логистической регрессии, которая будет предсказывать, что задержка прилета составит более 15 минут.\n",
        "Какие признаки вы будете использовать?\n",
        "Какие новые признаки, на основе имеющихся, можете предложить?\n",
        "Какова точность полученной модели (precision, recall, accuracy)?\n",
        "\"\"\""
      ],
      "metadata": {
        "colab": {
          "base_uri": "https://localhost:8080/",
          "height": 53
        },
        "id": "WLtFf0YdJ1es",
        "outputId": "179e5773-e98d-4404-85dd-73871bd7e83a"
      },
      "execution_count": 29,
      "outputs": [
        {
          "output_type": "execute_result",
          "data": {
            "text/plain": [
              "' Задание 6. Постройте модель логистической регрессии, которая будет предсказывать, что задержка прилета составит более 15 минут.\\nКакие признаки вы будете использовать?\\nКакие новые признаки, на основе имеющихся, можете предложить?\\nКакова точность полученной модели (precision, recall, accuracy)?\\n'"
            ],
            "application/vnd.google.colaboratory.intrinsic+json": {
              "type": "string"
            }
          },
          "metadata": {},
          "execution_count": 29
        }
      ],
      "id": "WLtFf0YdJ1es"
    },
    {
      "cell_type": "code",
      "source": [
        "\"\"\" Для построения модели логистической регрессии мною было принято решение использовать все признаки, за исключением:\n",
        "\n",
        "1) dep_time, arr_time, так как время вылета в общем случае не будет влиять на задержку\n",
        "2) arr_delay, значения данного столбца были преобразованы в arr_delay_binary (0, если задержка меньше 15 минут, 1 в противном случае) и использованы как ответы на задачу\n",
        "3) tailnum\n",
        "4) day, year, так как данные значения не должны играть существенной роли, в отличие от месяца (в разные месяцы в среднем разная погода, что может сказаться на задержках)\n",
        "5) flight, origin, dest. Опять же, данные не играют роли.\n",
        "\n",
        "Из новых признаков предлагаю реализовать arr_delay_binary, описанную выше. Также можно было добавить признак time_of_day, так как, возможно, в разные временные промежутки дня статистика будет меняться.\n",
        "\"\"\""
      ],
      "metadata": {
        "colab": {
          "base_uri": "https://localhost:8080/",
          "height": 122
        },
        "outputId": "d593ad2e-de1f-40ac-c75b-7c3343854916",
        "id": "30B206aIKV_0"
      },
      "execution_count": 30,
      "outputs": [
        {
          "output_type": "execute_result",
          "data": {
            "text/plain": [
              "' Для построения модели логистической регрессии мною было принято решение использовать все признаки, за исключением:\\n\\n1) dep_time, arr_time, так как время вылета в общем случае не будет влиять на задержку\\n2) arr_delay, значения данного столбца были преобразованы в arr_delay_binary (0, если задержка меньше 15 минут, 1 в противном случае) и использованы как ответы на задачу\\n3) tailnum\\n4) day, year, так как данные значения не должны играть существенной роли, в отличие от месяца (в разные месяцы в среднем разная погода, что может сказаться на задержках)\\n5) flight, origin, dest. Опять же, данные не играют роли.\\n\\nИз новых признаков предлагаю реализовать arr_delay_binary, описанную выше. Также можно было добавить признак time_of_day, так как, возможно, в разные временные промежутки дня статистика будет меняться.\\n'"
            ],
            "application/vnd.google.colaboratory.intrinsic+json": {
              "type": "string"
            }
          },
          "metadata": {},
          "execution_count": 30
        }
      ],
      "id": "30B206aIKV_0"
    },
    {
      "cell_type": "code",
      "source": [
        "# Дополнительный импорт\n",
        "from sklearn.linear_model import LogisticRegression\n",
        "from sklearn.model_selection import train_test_split\n",
        "from sklearn.metrics import precision_score, recall_score, accuracy_score"
      ],
      "metadata": {
        "id": "s0vTOPu53mFJ"
      },
      "id": "s0vTOPu53mFJ",
      "execution_count": 31,
      "outputs": []
    },
    {
      "cell_type": "code",
      "source": [
        "# Заново загрузим датасет\n",
        "\n",
        "df = pd.read_csv(\"flights_NY.csv\")\n",
        "df.dropna(inplace=True)\n",
        "\n",
        "# Чтобы разделить все данные на 2 класса, добавлю новый столбец arr_delay_binary. Если задержка более 15 минут, значение будет 1, иначе 0\n",
        "df['arr_delay_binary'] = (df['arr_delay'] > 15).astype(int)\n",
        "\n",
        "\n",
        "df = df.drop('dep_time', axis=1)\n",
        "df = df.drop('arr_time', axis=1)\n",
        "df = df.drop('arr_delay', axis=1)\n",
        "df = df.drop('tailnum', axis=1)\n",
        "df = df.drop('day', axis=1)\n",
        "df = df.drop('year', axis=1)\n",
        "df = df.drop('flight', axis=1)\n",
        "df = df.drop('origin', axis=1)\n",
        "df = df.drop('dest', axis=1)\n",
        "\n",
        "#Факторизирую значение столбца carrier\n",
        "df['carrier'], uniques = pd.factorize(df['carrier'])\n",
        "\n",
        "X = df.drop('arr_delay_binary', axis=1)\n",
        "y = df['arr_delay_binary']\n",
        "\n",
        "# Разделение на обучающий и тестовый наборы\n",
        "X_train, X_test, y_train, y_test = train_test_split(X, y, train_size=0.75, test_size=0.25, random_state=85)\n",
        "\n",
        "# Создание модели логистической регрессии\n",
        "model = LogisticRegression(solver='lbfgs', max_iter=1000)\n",
        "\n",
        "# Обучение модели\n",
        "model.fit(X_train, y_train)\n",
        "\n",
        "# Прогнозирование\n",
        "y_pred = model.predict(X_test)\n",
        "\n",
        "# Оценка модели\n",
        "\n",
        "precision = precision_score(y_test, y_pred)\n",
        "recall = recall_score(y_test, y_pred)\n",
        "accuracy = accuracy_score(y_test, y_pred)\n",
        "\n",
        "print(\"Precision:\", precision)\n",
        "print(\"Recall:\", recall)\n",
        "print(\"Accuracy:\", accuracy)\n",
        "\n",
        "\n"
      ],
      "metadata": {
        "colab": {
          "base_uri": "https://localhost:8080/"
        },
        "id": "7wSRFZHWL8tm",
        "outputId": "bb483a20-8002-4499-914d-7ed42c12410f"
      },
      "execution_count": 34,
      "outputs": [
        {
          "output_type": "stream",
          "name": "stdout",
          "text": [
            "Precision: 0.8893205120040757\n",
            "Recall: 0.7206997987304536\n",
            "Accuracy: 0.9126312059337464\n"
          ]
        }
      ],
      "id": "7wSRFZHWL8tm"
    },
    {
      "cell_type": "code",
      "source": [
        "\"\"\" Итого получили результаты:\n",
        "  Precision: 0.8893205120040757\n",
        "  Recall: 0.7206997987304536\n",
        "  Accuracy: 0.9126312059337464\n",
        "\"\"\""
      ],
      "metadata": {
        "colab": {
          "base_uri": "https://localhost:8080/",
          "height": 35
        },
        "outputId": "939f187c-4179-4136-c515-a879fa94c255",
        "id": "wm4Kd3n0MrlD"
      },
      "execution_count": 35,
      "outputs": [
        {
          "output_type": "execute_result",
          "data": {
            "text/plain": [
              "' Итого получили результаты:\\n  Precision: 0.8893205120040757\\n  Recall: 0.7206997987304536\\n  Accuracy: 0.9126312059337464\\n'"
            ],
            "application/vnd.google.colaboratory.intrinsic+json": {
              "type": "string"
            }
          },
          "metadata": {},
          "execution_count": 35
        }
      ],
      "id": "wm4Kd3n0MrlD"
    }
  ],
  "metadata": {
    "kernelspec": {
      "display_name": "Python 3 (ipykernel)",
      "language": "python",
      "name": "python3"
    },
    "language_info": {
      "codemirror_mode": {
        "name": "ipython",
        "version": 3
      },
      "file_extension": ".py",
      "mimetype": "text/x-python",
      "name": "python",
      "nbconvert_exporter": "python",
      "pygments_lexer": "ipython3",
      "version": "3.11.4"
    },
    "colab": {
      "provenance": []
    }
  },
  "nbformat": 4,
  "nbformat_minor": 5
}